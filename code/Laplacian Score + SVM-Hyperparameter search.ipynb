{
 "cells": [
  {
   "cell_type": "code",
   "execution_count": null,
   "metadata": {
    "ExecuteTime": {
     "end_time": "2020-12-05T11:42:11.763542Z",
     "start_time": "2020-12-05T11:42:05.033389Z"
    }
   },
   "outputs": [],
   "source": [
    "import pandas as pd\n",
    "import matplotlib.pyplot as plt\n",
    "from sklearn.model_selection import cross_val_score, KFold, StratifiedKFold\n",
    "from sklearn.svm import SVC\n",
    "from mpl_toolkits.mplot3d import Axes3D\n",
    "from sklearn.preprocessing import StandardScaler\n",
    "from sklearn.metrics import roc_curve, auc\n",
    "from skfeature.function.similarity_based.lap_score import lap_score, feature_ranking\n",
    "from sklearn.metrics import pairwise_distances\n",
    "from scipy import sparse\n",
    "import warnings\n",
    "warnings.filterwarnings(\"ignore\")\n",
    "plt.style.use('seaborn-whitegrid')"
   ]
  },
  {
   "cell_type": "markdown",
   "metadata": {},
   "source": [
    "<br>"
   ]
  },
  {
   "cell_type": "code",
   "execution_count": null,
   "metadata": {
    "ExecuteTime": {
     "end_time": "2020-12-05T11:42:27.707090Z",
     "start_time": "2020-12-05T11:42:11.798540Z"
    }
   },
   "outputs": [],
   "source": [
    "texturas = pd.read_excel('BBDD_caEnd_articulo_jmCarot.xlsx', usecols='DG:FKW')\n",
    "grado = pd.read_excel('BBDD_caEnd_articulo_jmCarot.xlsx', usecols='AT')\n",
    "\n",
    "na_ind = [47, 91, 94, 97]\n",
    "texturas = texturas.drop(na_ind)\n",
    "grado = grado.drop(na_ind)\n",
    "\n",
    "grado_dico = grado.replace({1:0, 2:1, 3:1})"
   ]
  },
  {
   "cell_type": "code",
   "execution_count": null,
   "metadata": {
    "ExecuteTime": {
     "end_time": "2020-12-05T11:42:28.336219Z",
     "start_time": "2020-12-05T11:42:28.275089Z"
    }
   },
   "outputs": [],
   "source": [
    "X_texturas = texturas.values\n",
    "scaler = StandardScaler()\n",
    "X_texturas_scaled = scaler.fit_transform(X_texturas)\n",
    "Y = grado_dico.values.T[0] "
   ]
  },
  {
   "cell_type": "markdown",
   "metadata": {},
   "source": [
    "<br>"
   ]
  },
  {
   "cell_type": "markdown",
   "metadata": {},
   "source": [
    "### Laplacian Feature Selection\n",
    "\n",
    "The smaller the laplacian score is, the more important the feature is"
   ]
  },
  {
   "cell_type": "code",
   "execution_count": null,
   "metadata": {
    "ExecuteTime": {
     "end_time": "2020-12-05T11:43:52.272897Z",
     "start_time": "2020-12-05T11:43:52.249740Z"
    }
   },
   "outputs": [],
   "source": [
    "def compute_W(X, Y, eps):\n",
    "    # Simple kernel\n",
    "    n = X.shape[0]\n",
    "    dist_matrix = pairwise_distances(X)\n",
    "    nn_matrix = np.array([ [index for index, d in enumerate(dist_matrix[i,:]) if d < eps and index != i and Y[index] == Y[i]] for i in range(n) ])\n",
    "    # Weight matrix\n",
    "    W = []\n",
    "    for i in range(n):\n",
    "        w_aux = np.zeros((1, n))\n",
    "        similarities = np.array([ 1 for v in nn_matrix[i]] )\n",
    "        np.put(w_aux, nn_matrix[i], similarities)\n",
    "        W.append(w_aux[0])\n",
    "    W = np.array(W)\n",
    "    return W"
   ]
  },
  {
   "cell_type": "code",
   "execution_count": null,
   "metadata": {
    "ExecuteTime": {
     "end_time": "2020-12-05T11:43:53.017106Z",
     "start_time": "2020-12-05T11:43:52.910799Z"
    }
   },
   "outputs": [],
   "source": [
    "eps = 5000\n",
    "W = compute_W(X_texturas_scaled, Y, eps)"
   ]
  },
  {
   "cell_type": "code",
   "execution_count": null,
   "metadata": {
    "ExecuteTime": {
     "end_time": "2020-12-05T11:43:53.630537Z",
     "start_time": "2020-12-05T11:43:53.607099Z"
    }
   },
   "outputs": [],
   "source": [
    "W"
   ]
  },
  {
   "cell_type": "code",
   "execution_count": null,
   "metadata": {
    "ExecuteTime": {
     "end_time": "2020-12-05T11:43:54.492771Z",
     "start_time": "2020-12-05T11:43:54.383028Z"
    }
   },
   "outputs": [],
   "source": [
    "L = lap_score(X_texturas_scaled, W = sparse.csr_matrix(W))\n",
    "f = feature_ranking(L)\n",
    "f"
   ]
  },
  {
   "cell_type": "code",
   "execution_count": null,
   "metadata": {
    "ExecuteTime": {
     "end_time": "2020-12-05T11:43:55.866396Z",
     "start_time": "2020-12-05T11:43:55.614381Z"
    }
   },
   "outputs": [],
   "source": [
    "fig = plt.figure(figsize=(15,7))\n",
    "plt.plot(list(range(len(f))), L[f], '-ok')\n",
    "plt.grid(True)\n",
    "plt.yticks(np.arange(min(L)-0.055, max(L)+0.05, step=0.05))\n",
    "plt.title('Laplacian Scores')\n",
    "plt.show()"
   ]
  },
  {
   "cell_type": "markdown",
   "metadata": {},
   "source": [
    "<br>"
   ]
  },
  {
   "cell_type": "markdown",
   "metadata": {},
   "source": [
    "## Cross-validation Laplacian Score\n",
    "### SVM kernel = linear"
   ]
  },
  {
   "cell_type": "code",
   "execution_count": null,
   "metadata": {
    "ExecuteTime": {
     "end_time": "2020-12-05T11:44:33.739919Z",
     "start_time": "2020-12-05T11:43:58.261046Z"
    }
   },
   "outputs": [],
   "source": [
    "modelos = [('linear', 1, 0, 'scale')] \n",
    "\n",
    "# (kernel, C, degree, gamma)\n",
    "hiperparam = {c:None for c in modelos}\n",
    "for (kernel, C, d, g),_ in hiperparam.items():\n",
    "    results = {}\n",
    "    laplacian_thresholds = [L[f][0] + (i * 0.0001) for i in range(1, 358)]\n",
    "    for i in laplacian_thresholds:\n",
    "        X_texturas_selected = X_texturas_scaled[:,f[L[f] < i]] # Variables con un valor de Laplacian Score menor que el threshold\n",
    "\n",
    "        kf = StratifiedKFold(n_splits=10, shuffle = True, random_state = 344)\n",
    "        probas = np.zeros((X_texturas_selected.shape[0],2))\n",
    "        for train_index, test_index in kf.split(X_texturas_selected, Y):\n",
    "            X_train, X_test = X_texturas_selected[train_index], X_texturas_selected[test_index]\n",
    "            y_train, y_test = Y[train_index], Y[test_index]\n",
    "            dt = SVC(probability = True, kernel = kernel, C = C, degree = d, gamma = g, random_state = 3)\n",
    "            probas_ = dt.fit(X_train, y_train).predict_proba(X_test)\n",
    "            probas[test_index, :] = probas_\n",
    "\n",
    "        fpr, tpr, thresholds = roc_curve(Y, probas[:, 1])\n",
    "        roc_auc = auc(fpr, tpr)\n",
    "        results[i] = roc_auc\n",
    "    hiperparam[(kernel, C, d, g)] = results"
   ]
  },
  {
   "cell_type": "code",
   "execution_count": null,
   "metadata": {
    "ExecuteTime": {
     "end_time": "2020-12-05T11:44:35.532160Z",
     "start_time": "2020-12-05T11:44:35.507874Z"
    }
   },
   "outputs": [],
   "source": [
    "{m: max([(v, c) for c, v in results.items()]) for m, results in hiperparam.items()}"
   ]
  },
  {
   "cell_type": "code",
   "execution_count": null,
   "metadata": {
    "ExecuteTime": {
     "end_time": "2020-12-05T11:44:43.025084Z",
     "start_time": "2020-12-05T11:44:43.018652Z"
    }
   },
   "outputs": [],
   "source": [
    "results_best_model = hiperparam[('linear', 1, 0, 'scale')]"
   ]
  },
  {
   "cell_type": "code",
   "execution_count": null,
   "metadata": {
    "ExecuteTime": {
     "end_time": "2020-12-05T11:44:44.986653Z",
     "start_time": "2020-12-05T11:44:44.602251Z"
    }
   },
   "outputs": [],
   "source": [
    "fig = plt.figure(figsize=(15,7))\n",
    "plt.axvline(x = max([(v, c) for c, v in results_best_model.items()])[1], color = 'r')\n",
    "plt.plot(results_best_model.keys(), results_best_model.values(), '-ok')\n",
    "plt.grid(True)\n",
    "plt.yticks(np.arange(0, 1, step=0.05))\n",
    "plt.xticks(np.arange(min(laplacian_thresholds), max(laplacian_thresholds), step = 0.01))\n",
    "plt.title('AUC vs Laplacian Score')\n",
    "plt.xlabel('Laplacian Score threshold')\n",
    "plt.ylabel('AUC')\n",
    "plt.show()"
   ]
  },
  {
   "cell_type": "code",
   "execution_count": null,
   "metadata": {
    "ExecuteTime": {
     "end_time": "2020-12-05T11:44:59.589058Z",
     "start_time": "2020-12-05T11:44:59.275862Z"
    }
   },
   "outputs": [],
   "source": [
    "X_texturas_selected = X_texturas_scaled[:,f[L[f] < 0.992679181227688]] \n",
    "    \n",
    "kf = StratifiedKFold(n_splits=10, shuffle = True, random_state = 344)\n",
    "probas = np.zeros((X_texturas_selected.shape[0],2))\n",
    "for train_index, test_index in kf.split(X_texturas_selected, Y):\n",
    "    X_train, X_test = X_texturas_selected[train_index], X_texturas_selected[test_index]\n",
    "    y_train, y_test = Y[train_index], Y[test_index]\n",
    "    dt = SVC(probability = True, kernel = 'linear', C = 1, random_state = 3)\n",
    "    probas_ = dt.fit(X_train, y_train).predict_proba(X_test)\n",
    "    probas[test_index, :] = probas_"
   ]
  },
  {
   "cell_type": "code",
   "execution_count": null,
   "metadata": {
    "ExecuteTime": {
     "end_time": "2020-12-05T11:45:00.720794Z",
     "start_time": "2020-12-05T11:45:00.467648Z"
    }
   },
   "outputs": [],
   "source": [
    "probs_df = pd.DataFrame(probas)\n",
    "probs_df['Y'] = Y\n",
    "probs_df.to_excel('Predictions_Laplacian_Score_SVM.xlsx')"
   ]
  }
 ],
 "metadata": {
  "kernelspec": {
   "display_name": "Python 3",
   "language": "python",
   "name": "python3"
  },
  "language_info": {
   "codemirror_mode": {
    "name": "ipython",
    "version": 3
   },
   "file_extension": ".py",
   "mimetype": "text/x-python",
   "name": "python",
   "nbconvert_exporter": "python",
   "pygments_lexer": "ipython3",
   "version": "3.7.4"
  },
  "toc": {
   "base_numbering": 1,
   "nav_menu": {},
   "number_sections": false,
   "sideBar": true,
   "skip_h1_title": false,
   "title_cell": "Table of Contents",
   "title_sidebar": "Contents",
   "toc_cell": false,
   "toc_position": {},
   "toc_section_display": true,
   "toc_window_display": false
  },
  "varInspector": {
   "cols": {
    "lenName": 16,
    "lenType": 16,
    "lenVar": 40
   },
   "kernels_config": {
    "python": {
     "delete_cmd_postfix": "",
     "delete_cmd_prefix": "del ",
     "library": "var_list.py",
     "varRefreshCmd": "print(var_dic_list())"
    },
    "r": {
     "delete_cmd_postfix": ") ",
     "delete_cmd_prefix": "rm(",
     "library": "var_list.r",
     "varRefreshCmd": "cat(var_dic_list()) "
    }
   },
   "position": {
    "height": "459.716px",
    "left": "1062.45px",
    "right": "20px",
    "top": "138px",
    "width": "576.008px"
   },
   "types_to_exclude": [
    "module",
    "function",
    "builtin_function_or_method",
    "instance",
    "_Feature"
   ],
   "window_display": false
  }
 },
 "nbformat": 4,
 "nbformat_minor": 2
}
