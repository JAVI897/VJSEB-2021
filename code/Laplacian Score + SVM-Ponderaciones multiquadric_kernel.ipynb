{
 "cells": [
  {
   "cell_type": "code",
   "execution_count": null,
   "metadata": {
    "ExecuteTime": {
     "end_time": "2020-12-13T12:52:19.036980Z",
     "start_time": "2020-12-13T12:52:19.010072Z"
    }
   },
   "outputs": [],
   "source": [
    "import pandas as pd\n",
    "import matplotlib.pyplot as plt\n",
    "from sklearn.model_selection import cross_val_score, KFold, StratifiedKFold\n",
    "from sklearn.svm import SVC\n",
    "from mpl_toolkits.mplot3d import Axes3D\n",
    "from sklearn.preprocessing import StandardScaler\n",
    "from sklearn.metrics import roc_curve, auc\n",
    "from skfeature.function.similarity_based.lap_score import lap_score, feature_ranking\n",
    "from sklearn.metrics import pairwise_distances\n",
    "from scipy import sparse\n",
    "import warnings\n",
    "#from metrics import *\n",
    "warnings.filterwarnings(\"ignore\")\n",
    "plt.style.use('seaborn-whitegrid')\n",
    "from weight_matrices import compute_W_multiquadric_kernel\n",
    "from sklearn.metrics import accuracy_score"
   ]
  },
  {
   "cell_type": "markdown",
   "metadata": {},
   "source": [
    "<br>"
   ]
  },
  {
   "cell_type": "code",
   "execution_count": null,
   "metadata": {
    "ExecuteTime": {
     "end_time": "2020-12-13T12:04:30.760460Z",
     "start_time": "2020-12-13T12:04:16.102670Z"
    }
   },
   "outputs": [],
   "source": [
    "texturas = pd.read_excel('BBDD_caEnd_articulo_jmCarot.xlsx', usecols='DG:FKW')\n",
    "grado = pd.read_excel('BBDD_caEnd_articulo_jmCarot.xlsx', usecols='AT')\n",
    "\n",
    "na_ind = [47, 91, 94, 97]\n",
    "texturas = texturas.drop(na_ind)\n",
    "grado = grado.drop(na_ind)\n",
    "\n",
    "grado_dico = grado.replace({1:0, 2:1, 3:1})"
   ]
  },
  {
   "cell_type": "code",
   "execution_count": null,
   "metadata": {
    "ExecuteTime": {
     "end_time": "2020-12-13T12:04:33.309807Z",
     "start_time": "2020-12-13T12:04:33.247868Z"
    }
   },
   "outputs": [],
   "source": [
    "X_texturas = texturas.values\n",
    "scaler = StandardScaler()\n",
    "X_texturas_scaled = scaler.fit_transform(X_texturas)\n",
    "Y = grado_dico.values.T[0] "
   ]
  },
  {
   "cell_type": "markdown",
   "metadata": {},
   "source": [
    "<br>"
   ]
  },
  {
   "cell_type": "code",
   "execution_count": null,
   "metadata": {
    "ExecuteTime": {
     "end_time": "2020-12-13T14:23:13.442793Z",
     "start_time": "2020-12-13T14:23:13.427243Z"
    }
   },
   "outputs": [],
   "source": [
    "def confidence_intervals_for_each_laplacian_threshold(f, L, X_texturas_scaled, Y, model, thresholds = 250, experiments = 20):\n",
    "    \n",
    "    def thresholds_search(f, L, X, number_thresholds = 320):\n",
    "        percentil = 1\n",
    "        while True:\n",
    "            if X[:,f[L[f] < np.percentile(L, percentil)]].shape[1] >= 160:\n",
    "                break\n",
    "            percentil += 0.2\n",
    "        obs_ini = 1\n",
    "        while True:\n",
    "            if X[:,f[L[f] < L[f][obs_ini]]].shape[1] > 0:\n",
    "                break\n",
    "            obs_ini += 1\n",
    "            \n",
    "        return np.linspace(L[f][obs_ini], np.percentile(L, percentil), number_thresholds)\n",
    "    \n",
    "    random_states = set(np.random.random_integers(3000, size = (1, experiments))[0])\n",
    "    results = {}\n",
    "    n_vbles_last = 79999\n",
    "    laplacian_thresholds = thresholds_search(f, L, X_texturas_scaled, number_thresholds = thresholds)\n",
    "    best_auc_laplacian_threshold = (0, 0, 0) #auc, lap.threshold, random state\n",
    "    for i in laplacian_thresholds:\n",
    "        # Variables con un valor de Laplacian Score menor que el threshold\n",
    "        X_texturas_selected = X_texturas_scaled[:,f[L[f] < i]]\n",
    "        aucs = []\n",
    "        accs = []\n",
    "        # Si con el threshold obtenemos el mismo número de variables que antes, nos lo saltamos\n",
    "        if X_texturas_selected.shape[1] == n_vbles_last:\n",
    "            pass\n",
    "        auc_max_rand_state = (0, 0)\n",
    "        for rand_state in random_states:\n",
    "            kf = StratifiedKFold(n_splits=10, shuffle = True, random_state = rand_state)\n",
    "            probas = np.zeros((X_texturas_selected.shape[0],2))\n",
    "            accs_aux_cv = []\n",
    "            for train_index, test_index in kf.split(X_texturas_selected, Y):\n",
    "                X_train, X_test = X_texturas_selected[train_index], X_texturas_selected[test_index]\n",
    "                y_train, y_test = Y[train_index], Y[test_index]\n",
    "                dt = model\n",
    "                probas_ = dt.fit(X_train, y_train).predict_proba(X_test)\n",
    "                accs_aux_cv.append(dt.score(X_test, y_test))\n",
    "                probas[test_index, :] = probas_\n",
    "            \n",
    "            fpr, tpr, thresholds_for_roc = roc_curve(Y, probas[:, 1])\n",
    "            acc = np.array(accs_aux_cv).mean()\n",
    "            roc_auc = auc(fpr, tpr)\n",
    "            if roc_auc > auc_max_rand_state[0]:\n",
    "                auc_max_rand_state = (roc_auc, rand_state)\n",
    "            aucs.append(roc_auc)\n",
    "            accs.append(acc)\n",
    "        \n",
    "        aucs = np.array(aucs)\n",
    "        accs = np.array(accs)\n",
    "        auc_mean, accs_mean = aucs.mean(), accs.mean()\n",
    "        auc_std, accs_std = aucs.std(), accs.std()\n",
    "        auc_max, accs_max = max(aucs), max(accs)\n",
    "        auc_min, accs_min = min(aucs), min(accs)\n",
    "        if auc_mean > best_auc_laplacian_threshold[0]:\n",
    "            best_auc_laplacian_threshold = (auc_mean, i, auc_max_rand_state[1] )\n",
    "        n_vbles = X_texturas_selected.shape[1]\n",
    "        n_vbles_last = n_vbles\n",
    "        results[i] = [(auc_mean, auc_std, auc_max, auc_min, n_vbles), \n",
    "                      (accs_mean, accs_std, accs_max, accs_min, n_vbles)\n",
    "                     ]\n",
    "    return results, best_auc_laplacian_threshold"
   ]
  },
  {
   "cell_type": "code",
   "execution_count": null,
   "metadata": {
    "ExecuteTime": {
     "end_time": "2020-12-13T14:16:57.340598Z",
     "start_time": "2020-12-13T14:16:57.328343Z"
    }
   },
   "outputs": [],
   "source": [
    "def thresholds_search(f, L, X, number_thresholds = 320):\n",
    "    percentil = 1\n",
    "    while True:\n",
    "        if X[:,f[L[f] < np.percentile(L, percentil)]].shape[1] >= 160:\n",
    "            break\n",
    "        percentil += 0.2\n",
    "    obs_ini = 1\n",
    "    while True:\n",
    "        if X[:,f[L[f] < L[f][obs_ini]]].shape[1] > 0:\n",
    "            break\n",
    "        obs_ini += 1\n",
    "    return np.linspace(L[f][obs_ini], np.percentile(L, percentil), number_thresholds)"
   ]
  },
  {
   "cell_type": "code",
   "execution_count": null,
   "metadata": {
    "ExecuteTime": {
     "end_time": "2020-12-13T14:16:58.035809Z",
     "start_time": "2020-12-13T14:16:58.025762Z"
    }
   },
   "outputs": [],
   "source": [
    "def get_cross_validation_threshold(X_texturas_scaled, Y, f, L, laplacian_thresholds, dt, random_state = 344):\n",
    "    results = {}\n",
    "    for i in laplacian_thresholds:\n",
    "        X_texturas_selected = X_texturas_scaled[:,f[L[f] < i]] # Variables con un valor de Laplacian Score menor que el threshold\n",
    "\n",
    "        kf = StratifiedKFold(n_splits=10, shuffle = True, random_state = random_state)\n",
    "        probas = np.zeros((X_texturas_selected.shape[0],2))\n",
    "        for train_index, test_index in kf.split(X_texturas_selected, Y):\n",
    "            X_train, X_test = X_texturas_selected[train_index], X_texturas_selected[test_index]\n",
    "            y_train, y_test = Y[train_index], Y[test_index]\n",
    "            probas_ = dt.fit(X_train, y_train).predict_proba(X_test)\n",
    "            probas[test_index, :] = probas_\n",
    "        fpr, tpr, _ = roc_curve(Y, probas[:, 1])\n",
    "        roc_auc = auc(fpr, tpr)\n",
    "        results[i] = roc_auc\n",
    "    return results"
   ]
  },
  {
   "cell_type": "markdown",
   "metadata": {},
   "source": [
    "## SVM kernel = linear -- Laplacian con kernel multiquadric"
   ]
  },
  {
   "cell_type": "markdown",
   "metadata": {},
   "source": [
    "### Hyperparameter search Weight matrix"
   ]
  },
  {
   "cell_type": "code",
   "execution_count": null,
   "metadata": {
    "ExecuteTime": {
     "end_time": "2020-12-13T11:48:51.453170Z",
     "start_time": "2020-12-13T11:48:39.380149Z"
    }
   },
   "outputs": [],
   "source": [
    "for eps in [77.9, 250, 5000]:\n",
    "    print('[INFO] eps = {}'.format(eps))\n",
    "    W = compute_W_multiquadric_kernel(X_texturas_scaled, Y, eps, 0.5)\n",
    "    L = lap_score(X_texturas_scaled, W = sparse.csr_matrix(W))\n",
    "    f = feature_ranking(L)\n",
    "    laplacian_thresholds = thresholds_search(f, L, X_texturas_scaled, number_thresholds = 20)\n",
    "    dt = SVC(probability = True, kernel = 'linear', random_state = 3)\n",
    "    results = get_cross_validation_threshold(X_texturas_scaled, Y, f, L, laplacian_thresholds, dt)\n",
    "    print(max([(v, c) for c, v in results.items()]))\n",
    "    print()"
   ]
  },
  {
   "cell_type": "code",
   "execution_count": null,
   "metadata": {
    "ExecuteTime": {
     "end_time": "2020-12-13T11:49:25.550816Z",
     "start_time": "2020-12-13T11:48:52.022662Z"
    }
   },
   "outputs": [],
   "source": [
    "eps = 5000\n",
    "W = compute_W_multiquadric_kernel(X_texturas_scaled, Y, eps, 0.5)\n",
    "L = lap_score(X_texturas_scaled, W = sparse.csr_matrix(W))\n",
    "f = feature_ranking(L)"
   ]
  },
  {
   "cell_type": "code",
   "execution_count": null,
   "metadata": {
    "ExecuteTime": {
     "end_time": "2020-12-13T14:26:05.798271Z",
     "start_time": "2020-12-13T14:23:21.818869Z"
    }
   },
   "outputs": [],
   "source": [
    "model = SVC(probability = True, kernel = 'linear', random_state = 3)\n",
    "results, best_auc_laplacian_threshold = confidence_intervals_for_each_laplacian_threshold(\n",
    "                                                            f, L, \n",
    "                                                            X_texturas_scaled, \n",
    "                                                            Y, \n",
    "                                                            model, \n",
    "                                                            thresholds = 100, \n",
    "                                                            experiments = 20)"
   ]
  },
  {
   "cell_type": "code",
   "execution_count": null,
   "metadata": {
    "ExecuteTime": {
     "end_time": "2020-12-13T14:26:18.125744Z",
     "start_time": "2020-12-13T14:26:18.106350Z"
    }
   },
   "outputs": [],
   "source": [
    "auc_mean, auc_std, auc_max, auc_min, c, n_vbles = max([(mean_, std_, max_, min_, c, n_vbles) for c, [(mean_, std_, max_, min_, n_vbles),_] in results.items()])\n",
    "print('[INFO] Best threshold: {}'.format(c))\n",
    "print('AUC mean: {}'.format(auc_mean))\n",
    "print('AUC std: {}'.format(auc_std))\n",
    "print('AUC max: {}'.format(auc_max))\n",
    "print('AUC min: {}'.format(auc_min))\n",
    "print('AUC medio: {} Máximo AUC: {}  con un random state de {} y un laplacian threshold de {}'.format(best_auc_laplacian_threshold[0], \n",
    "                                                                                                      auc_max,\n",
    "                                                                                                      best_auc_laplacian_threshold[2],\n",
    "                                                                                                      best_auc_laplacian_threshold[1]))"
   ]
  },
  {
   "cell_type": "code",
   "execution_count": null,
   "metadata": {
    "ExecuteTime": {
     "end_time": "2020-12-13T14:27:50.543174Z",
     "start_time": "2020-12-13T14:27:50.531586Z"
    }
   },
   "outputs": [],
   "source": [
    "acc_mean, acc_std, acc_max, acc_min, c, n_vbles = max([(mean_, std_, max_, min_, c, n_vbles) for c, [_,(mean_, std_, max_, min_, n_vbles)] in results.items()])\n",
    "print('[INFO] Best threshold: {}'.format(c))\n",
    "print('Accuracy mean: {}'.format(acc_mean))\n",
    "print('Accuracy std: {}'.format(acc_std))\n",
    "print('Accuracy max: {}'.format(acc_max))\n",
    "print('Accuracy min: {}'.format(acc_min))"
   ]
  },
  {
   "cell_type": "code",
   "execution_count": null,
   "metadata": {
    "ExecuteTime": {
     "end_time": "2020-12-13T14:28:03.865253Z",
     "start_time": "2020-12-13T14:28:03.658769Z"
    }
   },
   "outputs": [],
   "source": [
    "fig = plt.figure(figsize=(15,7))\n",
    "plt.axvline(x = max([(auc_mean, c) for c, [(auc_mean, auc_std, auc_max, auc_min, n_vbles),_] in results.items()])[1], color = 'r')\n",
    "plt.plot(results.keys(), [i[0][0] for i in results.values()], '-ok')\n",
    "plt.fill_between(results.keys(),[i[0][3] for i in results.values()],[i[0][2] for i in results.values()], alpha=0.3, edgecolor='red', facecolor='red')\n",
    "plt.grid(False)\n",
    "plt.yticks(np.arange(0, 1, step=0.05))\n",
    "plt.xticks(np.arange(min(laplacian_thresholds), max(laplacian_thresholds), step = 0.01))\n",
    "plt.title('AUC vs Laplacian Score')\n",
    "plt.xlabel('Laplacian Score threshold')\n",
    "plt.ylabel('AUC')\n",
    "plt.show()"
   ]
  },
  {
   "cell_type": "code",
   "execution_count": null,
   "metadata": {
    "ExecuteTime": {
     "end_time": "2020-12-13T14:28:10.247006Z",
     "start_time": "2020-12-13T14:28:10.028010Z"
    }
   },
   "outputs": [],
   "source": [
    "fig = plt.figure(figsize=(15,7))\n",
    "n_vbles_x = [i[0][4] for i in results.values()]\n",
    "aucs_y = [i[0][0] for i in results.values()]\n",
    "plt.plot(n_vbles_x, aucs_y, '-ok')\n",
    "plt.fill_between(n_vbles_x,[i[0][3] for i in results.values()],[i[0][2] for i in results.values()], alpha=0.3, edgecolor='red', facecolor='red')\n",
    "plt.grid(False)\n",
    "plt.yticks(np.arange(0, 1, step=0.05))\n",
    "#plt.xticks(np.arange(min(laplacian_thresholds), max(laplacian_thresholds), step = 0.01))\n",
    "plt.title('AUC vs Dimensionality')\n",
    "plt.xlabel('Dimensionality')\n",
    "plt.ylabel('AUC')\n",
    "plt.show()"
   ]
  },
  {
   "cell_type": "code",
   "execution_count": null,
   "metadata": {
    "ExecuteTime": {
     "end_time": "2020-12-13T14:28:13.191374Z",
     "start_time": "2020-12-13T14:28:12.958506Z"
    }
   },
   "outputs": [],
   "source": [
    "fig = plt.figure(figsize=(15,7))\n",
    "n_vbles_x = [i[1][4] for i in results.values()]\n",
    "accs_y = [i[1][0] for i in results.values()]\n",
    "plt.plot(n_vbles_x, accs_y, '-ok')\n",
    "plt.fill_between(n_vbles_x,[i[1][3] for i in results.values()],[i[1][2] for i in results.values()], alpha=0.3, edgecolor='red', facecolor='red')\n",
    "plt.grid(False)\n",
    "plt.yticks(np.arange(0, 1, step=0.05))\n",
    "#plt.xticks(np.arange(min(laplacian_thresholds), max(laplacian_thresholds), step = 0.01))\n",
    "plt.title('Accuracy vs Dimensionality')\n",
    "plt.xlabel('Dimensionality')\n",
    "plt.ylabel('Accuracy')\n",
    "plt.show()"
   ]
  },
  {
   "cell_type": "code",
   "execution_count": null,
   "metadata": {
    "ExecuteTime": {
     "end_time": "2020-12-13T14:28:26.567852Z",
     "start_time": "2020-12-13T14:28:26.544879Z"
    }
   },
   "outputs": [],
   "source": [
    "df_lap_svm_kenel = pd.DataFrame({'Threshold': list(results.keys()),\n",
    "                                 'Dimensionality': [i[0][4] for i in results.values()], \n",
    "                                 'AUC_Mean':[i[0][0] for i in results.values()], \n",
    "                                 'AUC_Std': [i[0][1] for i in results.values()],\n",
    "                                 'AUC_Min': [i[0][3] for i in results.values()], \n",
    "                                 'AUC_Max': [i[0][2] for i in results.values()], \n",
    "                                 \n",
    "                                 'acc_Mean':[i[1][0] for i in results.values()], \n",
    "                                 'acc_Std': [i[1][1] for i in results.values()],\n",
    "                                 'acc_Min': [i[1][3] for i in results.values()], \n",
    "                                 'acc_Max': [i[1][2] for i in results.values()]\n",
    "                                 \n",
    "                                 })"
   ]
  },
  {
   "cell_type": "code",
   "execution_count": null,
   "metadata": {
    "ExecuteTime": {
     "end_time": "2020-12-13T14:28:29.115474Z",
     "start_time": "2020-12-13T14:28:29.051871Z"
    }
   },
   "outputs": [],
   "source": [
    "df_lap_svm_kenel.to_excel('df_lap_svm_kernel_multiquadric.xlsx', index = False)"
   ]
  },
  {
   "cell_type": "markdown",
   "metadata": {},
   "source": [
    "## Mejor modelo\n",
    "\n",
    "El que obtiene el máximo AUC para el mejor threshold de laplacian Score"
   ]
  },
  {
   "cell_type": "code",
   "execution_count": null,
   "metadata": {
    "ExecuteTime": {
     "end_time": "2020-12-13T14:28:34.213189Z",
     "start_time": "2020-12-13T14:28:34.154645Z"
    }
   },
   "outputs": [],
   "source": [
    "rand_state_best = best_auc_laplacian_threshold[2]\n",
    "threshold_best = best_auc_laplacian_threshold[1]\n",
    "X_texturas_selected = X_texturas_scaled[:,f[L[f] < threshold_best]]\n",
    "\n",
    "kf = StratifiedKFold(n_splits=10, shuffle = True, random_state = rand_state_best)\n",
    "probas = np.zeros((X_texturas_selected.shape[0],2))\n",
    "for train_index, test_index in kf.split(X_texturas_selected, Y):\n",
    "    X_train, X_test = X_texturas_selected[train_index], X_texturas_selected[test_index]\n",
    "    y_train, y_test = Y[train_index], Y[test_index]\n",
    "    dt = SVC(probability = True, kernel = 'linear', random_state = 3)\n",
    "    probas_ = dt.fit(X_train, y_train).predict_proba(X_test)\n",
    "    probas[test_index, :] = probas_"
   ]
  },
  {
   "cell_type": "code",
   "execution_count": null,
   "metadata": {
    "ExecuteTime": {
     "end_time": "2020-12-13T14:28:35.127805Z",
     "start_time": "2020-12-13T14:28:35.077155Z"
    }
   },
   "outputs": [],
   "source": [
    "probs_df = pd.DataFrame(probas)\n",
    "probs_df['Y'] = Y\n",
    "probs_df.to_excel('Predictions_Laplacian_Score_SVM_multiquadric_kernel.xlsx')"
   ]
  },
  {
   "cell_type": "markdown",
   "metadata": {},
   "source": [
    "## Intervalos confianza con más pruebas para el laplacian threshold"
   ]
  },
  {
   "cell_type": "code",
   "execution_count": null,
   "metadata": {
    "ExecuteTime": {
     "end_time": "2020-12-13T14:33:59.225653Z",
     "start_time": "2020-12-13T14:33:50.999628Z"
    }
   },
   "outputs": [],
   "source": [
    "X_texturas_selected = X_texturas_scaled[:,f[L[f] < threshold_best]] \n",
    "\n",
    "random_states = set(np.random.random_integers(3000, size = (1, 200))[0]) # 200 experimentos\n",
    "\n",
    "results_remuestreo = {'AUC': [], 'Accuracy':[]}\n",
    "for rand_state in random_states:\n",
    "    kf = StratifiedKFold(n_splits=10, shuffle = True, random_state = rand_state)\n",
    "    probas = np.zeros((X_texturas_selected.shape[0],2))\n",
    "    acc_cv = []\n",
    "    for train_index, test_index in kf.split(X_texturas_selected, Y):\n",
    "        X_train, X_test = X_texturas_selected[train_index], X_texturas_selected[test_index]\n",
    "        y_train, y_test = Y[train_index], Y[test_index]\n",
    "        dt = SVC(probability = True, kernel = 'linear', random_state = 3)\n",
    "        probas_ = dt.fit(X_train, y_train).predict_proba(X_test)\n",
    "        acc_cv.append(dt.score(X_test, y_test))\n",
    "        probas[test_index, :] = probas_\n",
    "    acc = np.array(acc_cv).mean()\n",
    "    fpr, tpr, thresholds_for_roc = roc_curve(Y, probas[:, 1])\n",
    "    roc_auc = auc(fpr, tpr)\n",
    "    results_remuestreo['AUC'].append(roc_auc)\n",
    "    results_remuestreo['Accuracy'].append(acc)"
   ]
  },
  {
   "cell_type": "code",
   "execution_count": null,
   "metadata": {
    "ExecuteTime": {
     "end_time": "2020-12-13T14:34:03.867672Z",
     "start_time": "2020-12-13T14:34:03.844642Z"
    }
   },
   "outputs": [],
   "source": [
    "media_auc = np.array(results_remuestreo['AUC']).mean()\n",
    "std_auc = np.array(results_remuestreo['AUC']).std()\n",
    "media_acc = np.array(results_remuestreo['Accuracy']).mean()\n",
    "std_acc = np.array(results_remuestreo['Accuracy']).std()\n",
    "\n",
    "print_value = lambda n, mean, std: print('{}: mean: {} - std: {}'.format(n, mean, std))\n",
    "print_value('AUC', media_auc, std_auc)\n",
    "print_value('Accuracy', media_acc, std_acc)"
   ]
  }
 ],
 "metadata": {
  "kernelspec": {
   "display_name": "Python 3",
   "language": "python",
   "name": "python3"
  },
  "language_info": {
   "codemirror_mode": {
    "name": "ipython",
    "version": 3
   },
   "file_extension": ".py",
   "mimetype": "text/x-python",
   "name": "python",
   "nbconvert_exporter": "python",
   "pygments_lexer": "ipython3",
   "version": "3.7.4"
  },
  "toc": {
   "base_numbering": 1,
   "nav_menu": {},
   "number_sections": false,
   "sideBar": true,
   "skip_h1_title": false,
   "title_cell": "Table of Contents",
   "title_sidebar": "Contents",
   "toc_cell": false,
   "toc_position": {},
   "toc_section_display": true,
   "toc_window_display": false
  },
  "varInspector": {
   "cols": {
    "lenName": 16,
    "lenType": 16,
    "lenVar": 40
   },
   "kernels_config": {
    "python": {
     "delete_cmd_postfix": "",
     "delete_cmd_prefix": "del ",
     "library": "var_list.py",
     "varRefreshCmd": "print(var_dic_list())"
    },
    "r": {
     "delete_cmd_postfix": ") ",
     "delete_cmd_prefix": "rm(",
     "library": "var_list.r",
     "varRefreshCmd": "cat(var_dic_list()) "
    }
   },
   "position": {
    "height": "706.719px",
    "left": "1205.43px",
    "right": "20px",
    "top": "115.98px",
    "width": "419.006px"
   },
   "types_to_exclude": [
    "module",
    "function",
    "builtin_function_or_method",
    "instance",
    "_Feature"
   ],
   "window_display": false
  }
 },
 "nbformat": 4,
 "nbformat_minor": 2
}
