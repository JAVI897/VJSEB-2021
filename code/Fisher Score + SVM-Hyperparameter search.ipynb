{
 "cells": [
  {
   "cell_type": "code",
   "execution_count": null,
   "metadata": {
    "ExecuteTime": {
     "end_time": "2020-12-04T08:12:48.341077Z",
     "start_time": "2020-12-04T08:12:44.510426Z"
    }
   },
   "outputs": [],
   "source": [
    "import pandas as pd\n",
    "import matplotlib.pyplot as plt\n",
    "from sklearn.model_selection import cross_val_score, KFold, StratifiedKFold\n",
    "from sklearn.svm import SVC\n",
    "from mpl_toolkits.mplot3d import Axes3D\n",
    "from sklearn.preprocessing import StandardScaler\n",
    "from sklearn.metrics import roc_curve, auc\n",
    "from skfeature.function.similarity_based.fisher_score import fisher_score, feature_ranking\n",
    "import warnings\n",
    "warnings.filterwarnings(\"ignore\")\n",
    "plt.style.use('seaborn-whitegrid')"
   ]
  },
  {
   "cell_type": "markdown",
   "metadata": {},
   "source": [
    "<br>"
   ]
  },
  {
   "cell_type": "code",
   "execution_count": null,
   "metadata": {
    "ExecuteTime": {
     "end_time": "2020-12-04T08:13:26.773219Z",
     "start_time": "2020-12-04T08:12:48.361725Z"
    }
   },
   "outputs": [],
   "source": [
    "texturas = pd.read_excel('BBDD_caEnd_articulo_jmCarot.xlsx', usecols='DG:FKW')\n",
    "grado = pd.read_excel('BBDD_caEnd_articulo_jmCarot.xlsx', usecols='AT')\n",
    "\n",
    "na_ind = [47, 91, 94, 97]\n",
    "texturas = texturas.drop(na_ind)\n",
    "grado = grado.drop(na_ind)\n",
    "\n",
    "grado_dico = grado.replace({1:0, 2:1, 3:1})"
   ]
  },
  {
   "cell_type": "code",
   "execution_count": null,
   "metadata": {
    "ExecuteTime": {
     "end_time": "2020-12-04T08:13:27.577665Z",
     "start_time": "2020-12-04T08:13:27.569627Z"
    }
   },
   "outputs": [],
   "source": [
    "texturas.shape"
   ]
  },
  {
   "cell_type": "code",
   "execution_count": null,
   "metadata": {
    "ExecuteTime": {
     "end_time": "2020-12-04T08:13:27.920059Z",
     "start_time": "2020-12-04T08:13:27.862494Z"
    }
   },
   "outputs": [],
   "source": [
    "X_texturas = texturas.values\n",
    "scaler = StandardScaler()\n",
    "X_texturas_scaled = scaler.fit_transform(X_texturas)\n",
    "Y = grado_dico.values.T[0] "
   ]
  },
  {
   "cell_type": "markdown",
   "metadata": {},
   "source": [
    "<br>"
   ]
  },
  {
   "cell_type": "markdown",
   "metadata": {},
   "source": [
    "### Fisher Feature Selection\n",
    "\n",
    "The larger the fisher score, the more important the feature is"
   ]
  },
  {
   "cell_type": "code",
   "execution_count": null,
   "metadata": {
    "ExecuteTime": {
     "end_time": "2020-12-04T08:13:28.309757Z",
     "start_time": "2020-12-04T08:13:28.252956Z"
    }
   },
   "outputs": [],
   "source": [
    "L = fisher_score(X_texturas_scaled, Y)\n",
    "f = feature_ranking(L)\n",
    "f"
   ]
  },
  {
   "cell_type": "code",
   "execution_count": null,
   "metadata": {
    "ExecuteTime": {
     "end_time": "2020-12-04T08:13:29.012698Z",
     "start_time": "2020-12-04T08:13:28.671505Z"
    }
   },
   "outputs": [],
   "source": [
    "fig = plt.figure(figsize=(15,7))\n",
    "plt.plot(list(range(len(f))), L[f], '-ok')\n",
    "plt.grid(True)\n",
    "plt.yticks(np.arange(min(L)-0.055, max(L)+0.05, step=0.05))\n",
    "plt.title('Fisher Scores')\n",
    "plt.show()"
   ]
  },
  {
   "cell_type": "markdown",
   "metadata": {},
   "source": [
    "<br>"
   ]
  },
  {
   "cell_type": "markdown",
   "metadata": {},
   "source": [
    "## Cross-validation Fisher Score\n",
    "### SVM kernel = linear"
   ]
  },
  {
   "cell_type": "code",
   "execution_count": null,
   "metadata": {
    "ExecuteTime": {
     "end_time": "2020-12-03T13:59:29.301437Z",
     "start_time": "2020-12-03T13:59:29.293229Z"
    }
   },
   "outputs": [],
   "source": [
    "print(len(f[L[f] > [L[f][0] - (i * 0.001) for i in range(1, 47)][-1]]))"
   ]
  },
  {
   "cell_type": "code",
   "execution_count": null,
   "metadata": {
    "ExecuteTime": {
     "end_time": "2020-12-04T10:07:11.572735Z",
     "start_time": "2020-12-04T10:07:08.421133Z"
    },
    "scrolled": true
   },
   "outputs": [],
   "source": [
    "modelos = [('linear', 0.7, 0, 100)] \n",
    "# (kernel, C, degree, gamma)\n",
    "\n",
    "hiperparam = {c:None for c in modelos}\n",
    "for (kernel, C, d, g),_ in hiperparam.items():\n",
    "    results = {}\n",
    "    fisher_thresholds = [L[f][0] - (i * 0.001) for i in range(1, 47)]\n",
    "    for i in fisher_thresholds:\n",
    "        X_texturas_selected = X_texturas_scaled[:,f[L[f] > i]] # Variables con un valor de Fisher Score mayor que el threshold\n",
    "\n",
    "        kf = StratifiedKFold(n_splits=10, shuffle = True, random_state = 344)\n",
    "        probas = np.zeros((X_texturas_selected.shape[0],2))\n",
    "        for train_index, test_index in kf.split(X_texturas_selected, Y):\n",
    "            X_train, X_test = X_texturas_selected[train_index], X_texturas_selected[test_index]\n",
    "            y_train, y_test = Y[train_index], Y[test_index]\n",
    "            dt = SVC(probability = True, kernel = kernel, C = C, degree = d, gamma = g)\n",
    "            probas_ = dt.fit(X_train, y_train).predict_proba(X_test)\n",
    "            probas[test_index, :] = probas_\n",
    "\n",
    "        fpr, tpr, thresholds = roc_curve(Y, probas[:, 1])\n",
    "        roc_auc = auc(fpr, tpr)\n",
    "        results[i] = roc_auc\n",
    "    hiperparam[(kernel, C, d, g)] = results"
   ]
  },
  {
   "cell_type": "code",
   "execution_count": null,
   "metadata": {
    "ExecuteTime": {
     "end_time": "2020-12-04T10:00:58.482355Z",
     "start_time": "2020-12-04T10:00:58.475358Z"
    }
   },
   "outputs": [],
   "source": [
    "{m: max([(v, c) for c, v in results.items()]) for m, results in hiperparam.items()}"
   ]
  },
  {
   "cell_type": "code",
   "execution_count": null,
   "metadata": {
    "ExecuteTime": {
     "end_time": "2020-12-04T10:05:31.095190Z",
     "start_time": "2020-12-04T10:05:31.062501Z"
    }
   },
   "outputs": [],
   "source": [
    "dic_results ={\n",
    " ('linear', 1, 0, 'scale'): (0.7233806566104704, 0.028541915283306775),\n",
    " ('rbf', 1, 0, 'scale'): (0.6846716947648626, 0.04354191528330678),\n",
    " ('sigmoid', 1, 0, 'scale'): (0.5963842058562555, 0.04954191528330678),\n",
    " ('poly', 1, 2, 'scale'): (0.6028172138420584, 0.04054191528330678),\n",
    " ('linear', 100, 0, 'scale'): (0.7150621118012424, 0.02554191528330678),\n",
    " ('rbf', 100, 0, 'scale'): (0.654946761313221, 0.04254191528330678),\n",
    " ('sigmoid', 100, 0, 'scale'): (0.6230035492457853, 0.04954191528330678),\n",
    " ('poly', 100, 2, 'scale'): (0.6034826974267967, 0.03954191528330678),\n",
    " ('linear', 0.01, 0, 'scale'): (0.6987577639751553, 0.02554191528330678),\n",
    " ('rbf', 0.01, 0, 'scale'): (0.689773735581189, 0.04254191528330678),\n",
    " ('sigmoid', 0.01, 0, 'scale'): (0.5735359361135759, 0.04954191528330678),\n",
    " ('poly', 0.01, 2, 'scale'): (0.5939440993788819, 0.04154191528330678),\n",
    " ('linear', 0.02, 0, 'auto'): (0.6942102928127774, 0.02754191528330678),\n",
    " ('linear', 0.3, 0, 'auto'): (0.7192768411712511, 0.02754191528330678),\n",
    " ('linear', 0.4, 0, 'auto'): (0.7254880212954747, 0.028541915283306775),\n",
    " ('linear', 0.5, 0, 100): (0.7146184560780834, 0.02754191528330678),\n",
    " ('linear', 0.7, 0, 100): (0.7305900621118013, 0.02654191528330678),\n",
    " ('linear', 0.9, 0, 100): (0.7281499556344276, 0.028541915283306775),\n",
    " ('poly', 0.02, 2, 'auto'): (0.5959405501330968, 0.04854191528330678),\n",
    " ('poly', 0.3, 2, 'auto'): (0.6021517302573203, 0.03854191528330678),\n",
    " ('poly', 0.4, 2, 'auto'): (0.5988243123336291, 0.04154191528330678),\n",
    " ('poly', 0.5, 2, 'auto'): (0.5974933451641526, 0.030541915283306777),\n",
    " ('poly', 0.7, 2, 'auto'): (0.6141304347826088, 0.04154191528330678),\n",
    " ('poly', 0.9, 2, 'auto'): (0.6079192546583851, 0.04654191528330678),\n",
    " ('rbf', 0.02, 0, 'auto'): (0.6959849157054125, 0.02554191528330678),\n",
    " ('rbf', 0.3, 0, 'auto'): (0.6913265306122449, 0.04254191528330678),\n",
    " ('rbf', 0.4, 0, 'auto'): (0.6855590062111802, 0.04254191528330678),\n",
    " ('rbf', 0.5, 0, 100): (0.5808562555456965, 0.06754191528330677),\n",
    " ('rbf', 0.7, 0, 100): (0.5629991126885537, 0.05554191528330678),\n",
    " ('rbf', 0.9, 0, 100): (0.5908385093167701, 0.06554191528330677),\n",
    " ('sigmoid', 0.02, 0, 'auto'): (0.5830745341614907, 0.04954191528330678),\n",
    " ('sigmoid', 0.3, 0, 'auto'): (0.57952528837622, 0.04954191528330678),\n",
    " ('sigmoid', 0.4, 0, 'auto'): (0.5773070097604259, 0.04954191528330678),\n",
    " ('sigmoid', 0.5, 0, 100): (0.566659272404614, 0.04954191528330678),\n",
    " ('sigmoid', 0.7, 0, 100): (0.5983806566104702, 0.05954191528330678),\n",
    " ('sigmoid', 0.9, 0, 100): (0.6309893522626441, 0.061541915283306776),\n",
    " ('linear', 2, 0, 'auto'): (0.7193877551020408, 0.028541915283306775),\n",
    " ('rbf', 1, 0, 'auto'): (0.6933229813664596, 0.04754191528330678),\n",
    " ('sigmoid', 1, 0, 'auto'): (0.6108030168589175, 0.04954191528330678),\n",
    " ('poly', 1, 2, 'auto'): (0.6103593611357586, 0.04054191528330678),\n",
    " ('linear', 4, 0, 'auto'): (0.7270408163265306, 0.02554191528330678),\n",
    " ('rbf', 100, 0, 'auto'): (0.6589396628216504, 0.04254191528330678),\n",
    " ('sigmoid', 100, 0, 'auto'): (0.6396406388642413, 0.06954191528330678),\n",
    " ('poly', 100, 2, 'auto'): (0.5812999112688554, 0.061541915283306776),\n",
    " ('linear', 5, 0, 'auto'): (0.7303682342502218, 0.02554191528330678),\n",
    " ('rbf', 0.01, 0, 'auto'): (0.6809006211180124, 0.04454191528330678),\n",
    " ('sigmoid', 0.01, 0, 'auto'): (0.5759760425909494, 0.04954191528330678),\n",
    " ('poly', 0.01, 2, 'auto'): (0.5892857142857143, 0.03854191528330678),\n",
    " ('linear', 7, 0, 100): (0.7179458740017747, 0.02554191528330678),\n",
    " ('rbf', 1, 0, 100): (0.5888420585625554, 0.06354191528330677),\n",
    " ('sigmoid', 1, 0, 100): (0.5502440106477374, 0.06254191528330677),\n",
    " ('linear', 8, 0, 100): (0.7146184560780834, 0.02554191528330678),\n",
    " ('rbf', 100, 0, 100): (0.593944099378882, 0.06354191528330677),\n",
    " ('sigmoid', 100, 0, 100): (0.5582298136645962, 0.05954191528330678),\n",
    " ('linear', 10, 0, 100): (0.7095164152617568, 0.02554191528330678),\n",
    " ('rbf', 0.01, 0, 100): (0.5611135758651287, 0.06754191528330677),\n",
    " ('sigmoid', 0.01, 0, 100): (0.6052573203194321, 0.05954191528330678)}\n",
    "\n",
    "#dict(sorted(dic_results.items(), key=lambda item: item[0]))\n",
    "{k: v for k, v in sorted(dic_results.items(), key=lambda item: item[1], reverse = True)}"
   ]
  },
  {
   "cell_type": "code",
   "execution_count": null,
   "metadata": {
    "ExecuteTime": {
     "end_time": "2020-12-04T10:07:16.481324Z",
     "start_time": "2020-12-04T10:07:16.477971Z"
    }
   },
   "outputs": [],
   "source": [
    "results_best_model = hiperparam[('linear', 0.7, 0, 100)]"
   ]
  },
  {
   "cell_type": "code",
   "execution_count": null,
   "metadata": {
    "ExecuteTime": {
     "end_time": "2020-12-04T10:08:15.588692Z",
     "start_time": "2020-12-04T10:08:15.436692Z"
    }
   },
   "outputs": [],
   "source": [
    "fig = plt.figure(figsize=(15,7))\n",
    "plt.axvline(x = max([(v, c) for c, v in results_best_model.items()])[1], color = 'r')\n",
    "plt.plot(results_best_model.keys(), results_best_model.values(), '-ok')\n",
    "plt.grid(True)\n",
    "plt.yticks(np.arange(0, 1, step=0.05))\n",
    "plt.xticks(np.arange(min(fisher_thresholds), max(fisher_thresholds), step = 0.01))\n",
    "plt.title('AUC vs Laplacian Score')\n",
    "plt.xlabel('Fisher Score threshold')\n",
    "plt.ylabel('AUC')\n",
    "plt.show()"
   ]
  },
  {
   "cell_type": "markdown",
   "metadata": {},
   "source": [
    "Con un threshold de 0.02 obtenemos el máximo AUC = 0.73"
   ]
  },
  {
   "cell_type": "code",
   "execution_count": null,
   "metadata": {
    "ExecuteTime": {
     "end_time": "2020-12-04T10:08:44.934798Z",
     "start_time": "2020-12-04T10:08:44.747716Z"
    }
   },
   "outputs": [],
   "source": [
    "X_texturas_selected = X_texturas_scaled[:,f[L[f] > 0.02654191528330678]] \n",
    "    \n",
    "kf = StratifiedKFold(n_splits=10, shuffle = True, random_state = 344)\n",
    "probas = np.zeros((X_texturas_selected.shape[0],2))\n",
    "for train_index, test_index in kf.split(X_texturas_selected, Y):\n",
    "    X_train, X_test = X_texturas_selected[train_index], X_texturas_selected[test_index]\n",
    "    y_train, y_test = Y[train_index], Y[test_index]\n",
    "    dt = SVC(probability = True, kernel = 'linear', C = 0.7, gamma = 100)\n",
    "    probas_ = dt.fit(X_train, y_train).predict_proba(X_test)\n",
    "    probas[test_index, :] = probas_"
   ]
  },
  {
   "cell_type": "code",
   "execution_count": null,
   "metadata": {
    "ExecuteTime": {
     "end_time": "2020-12-04T10:08:45.883201Z",
     "start_time": "2020-12-04T10:08:45.808082Z"
    }
   },
   "outputs": [],
   "source": [
    "probs_df = pd.DataFrame(probas)\n",
    "probs_df['Y'] = Y\n",
    "probs_df.to_excel('Predictions_Fisher_Score_SVM.xlsx')"
   ]
  }
 ],
 "metadata": {
  "kernelspec": {
   "display_name": "Python 3",
   "language": "python",
   "name": "python3"
  },
  "language_info": {
   "codemirror_mode": {
    "name": "ipython",
    "version": 3
   },
   "file_extension": ".py",
   "mimetype": "text/x-python",
   "name": "python",
   "nbconvert_exporter": "python",
   "pygments_lexer": "ipython3",
   "version": "3.7.4"
  },
  "toc": {
   "base_numbering": 1,
   "nav_menu": {},
   "number_sections": false,
   "sideBar": true,
   "skip_h1_title": false,
   "title_cell": "Table of Contents",
   "title_sidebar": "Contents",
   "toc_cell": false,
   "toc_position": {},
   "toc_section_display": true,
   "toc_window_display": false
  },
  "varInspector": {
   "cols": {
    "lenName": 16,
    "lenType": 16,
    "lenVar": 40
   },
   "kernels_config": {
    "python": {
     "delete_cmd_postfix": "",
     "delete_cmd_prefix": "del ",
     "library": "var_list.py",
     "varRefreshCmd": "print(var_dic_list())"
    },
    "r": {
     "delete_cmd_postfix": ") ",
     "delete_cmd_prefix": "rm(",
     "library": "var_list.r",
     "varRefreshCmd": "cat(var_dic_list()) "
    }
   },
   "types_to_exclude": [
    "module",
    "function",
    "builtin_function_or_method",
    "instance",
    "_Feature"
   ],
   "window_display": false
  }
 },
 "nbformat": 4,
 "nbformat_minor": 2
}
